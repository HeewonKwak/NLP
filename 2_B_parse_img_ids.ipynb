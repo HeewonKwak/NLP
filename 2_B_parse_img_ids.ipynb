{
  "nbformat": 4,
  "nbformat_minor": 0,
  "metadata": {
    "colab": {
      "name": "2_B_parse_img_ids.ipynb",
      "provenance": [],
      "collapsed_sections": []
    },
    "kernelspec": {
      "name": "python3",
      "display_name": "Python 3"
    },
    "language_info": {
      "name": "python"
    }
  },
  "cells": [
    {
      "cell_type": "markdown",
      "metadata": {
        "id": "JQoRQUUAuKtU"
      },
      "source": [
        "# 상품 이미지 아이디 파싱하기\n",
        "- author: Eu-Bin KIM\n",
        "- 11st of August\n",
        "- tlrndk123@gmail.com\n",
        "\n",
        "\n",
        "## 목표\n",
        "\n",
        "이 [웹문서](http://www.pythonscraping.com/pages/page3.html)에서, 5개 상품 이미지의 고유 아이디를 파싱을 하시면 됩니다. 브라우저로 해당 문서를 inspect 해보고, 어떻게 추출할 수 있을지 생각해보세요! \n",
        "\n",
        "### 출력 예시\n",
        "```\n",
        "img1.jpg\n",
        "img2.jpg\n",
        "img3.jpg\n",
        "img4.jpg\n",
        "img6.jpg\n",
        "```\n",
        "\n",
        "---\n",
        "\n",
        "\n",
        "\n",
        "\n"
      ]
    },
    {
      "cell_type": "code",
      "metadata": {
        "id": "7uxOD64KrkSs",
        "colab": {
          "base_uri": "https://localhost:8080/"
        },
        "outputId": "4b220958-357c-4306-c456-3f461db38b36"
      },
      "source": [
        "!pip3 install requests\n",
        "!pip3 install bs4\n",
        "import requests\n",
        "from typing import List\n",
        "from bs4 import BeautifulSoup  # html 파싱을 위한 라이브러리\n",
        "import re # 정규표현식 사용을 위한 라이브러리\n",
        "\n",
        "\n",
        "# 다음의 웹페이지에서, 상품에 해당하는 이미지의 고유 아이디를 파싱해주세요!\n",
        "URL = \"http://www.pythonscraping.com/pages/page3.html\""
      ],
      "execution_count": null,
      "outputs": [
        {
          "output_type": "stream",
          "text": [
            "Requirement already satisfied: requests in /usr/local/lib/python3.7/dist-packages (2.23.0)\n",
            "Requirement already satisfied: chardet<4,>=3.0.2 in /usr/local/lib/python3.7/dist-packages (from requests) (3.0.4)\n",
            "Requirement already satisfied: urllib3!=1.25.0,!=1.25.1,<1.26,>=1.21.1 in /usr/local/lib/python3.7/dist-packages (from requests) (1.24.3)\n",
            "Requirement already satisfied: certifi>=2017.4.17 in /usr/local/lib/python3.7/dist-packages (from requests) (2021.5.30)\n",
            "Requirement already satisfied: idna<3,>=2.5 in /usr/local/lib/python3.7/dist-packages (from requests) (2.10)\n",
            "Requirement already satisfied: bs4 in /usr/local/lib/python3.7/dist-packages (0.0.1)\n",
            "Requirement already satisfied: beautifulsoup4 in /usr/local/lib/python3.7/dist-packages (from bs4) (4.6.3)\n"
          ],
          "name": "stdout"
        }
      ]
    },
    {
      "cell_type": "code",
      "metadata": {
        "colab": {
          "base_uri": "https://localhost:8080/"
        },
        "id": "hF-9fx-_q-iW",
        "outputId": "d728f9a4-be27-4b19-9d89-c9607fdb0ff9"
      },
      "source": [
        "# pattern의 활용예시\n",
        "corpus = [\n",
        "          \"123 adsfdsf\",\n",
        "          \"afafff 123\"\n",
        "]\n",
        "pattern = re.compile(r'^123')\n",
        "\n",
        "for doc in corpus:\n",
        "  match = pattern.match(doc)\n",
        "  print(match)"
      ],
      "execution_count": null,
      "outputs": [
        {
          "output_type": "stream",
          "text": [
            "<re.Match object; span=(0, 3), match='123'>\n",
            "None\n"
          ],
          "name": "stdout"
        }
      ]
    },
    {
      "cell_type": "code",
      "metadata": {
        "id": "DmDkJeTarhN8"
      },
      "source": [
        "# requests 라이브러리를 활용하면 한줄로 html을 간단하게 로드할 수 있습니다!\n",
        "html = requests.get(URL).text\n",
        "soup = BeautifulSoup(html, \"html.parser\")"
      ],
      "execution_count": null,
      "outputs": []
    },
    {
      "cell_type": "code",
      "metadata": {
        "id": "nuszb6t-R94k"
      },
      "source": [
        "pattern = re.compile('[]')\n",
        "\n",
        "for tag in soup.find_all('img', attrs={'src':pattern}):\n"
      ],
      "execution_count": null,
      "outputs": []
    },
    {
      "cell_type": "code",
      "metadata": {
        "id": "1RqArcF6rltP"
      },
      "source": [
        "# 다시 말하지만, \"상품\"에 해당하는 이미지의 id만 가져오면 됩니다~\n",
        "img_list = soup.find_all('img')\n",
        "img_lis = []\n",
        "for img in img_list:\n",
        "  img_lis.append(img.get('src')[-8:])\n",
        "\n",
        "img_ids: List[str] = []\n",
        "\n",
        "pattern = re.compile('\\S+\\d\\S+')\n",
        "\n",
        "for doc in img_lis:\n",
        "  match = pattern.match(doc)\n",
        "  if pattern.match(doc):\n",
        "    img_ids.append(match.group())\n",
        "##############"
      ],
      "execution_count": null,
      "outputs": []
    },
    {
      "cell_type": "code",
      "metadata": {
        "id": "5IDPU9_Utx83",
        "colab": {
          "base_uri": "https://localhost:8080/"
        },
        "outputId": "a9a7782c-a3e9-4cbe-b283-1b8c5ae08771"
      },
      "source": [
        "print(img_ids)"
      ],
      "execution_count": null,
      "outputs": [
        {
          "output_type": "stream",
          "text": [
            "['img1.jpg', 'img2.jpg', 'img3.jpg', 'img4.jpg', 'img6.jpg']\n"
          ],
          "name": "stdout"
        }
      ]
    }
  ]
}